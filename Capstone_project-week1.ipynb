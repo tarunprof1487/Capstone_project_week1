{
    "nbformat_minor": 1, 
    "cells": [
        {
            "source": "Coursera Capstone Project\n\nThe Battle of Neighborhoods (Week 1)", 
            "cell_type": "markdown", 
            "metadata": {
                "collapsed": true
            }
        }, 
        {
            "execution_count": 1, 
            "cell_type": "code", 
            "metadata": {}, 
            "outputs": [], 
            "source": "# A description of the problem and a discussion of the background. "
        }, 
        {
            "source": "Introduction Section:\n\nDiscussion of the business problem and the audience who would be interested in this project.\n\nDescription of the Problem and Background", 
            "cell_type": "markdown", 
            "metadata": {}
        }, 
        {
            "source": "Scenario:\nI am a IT Professional pursuing data science course from coursera. \nI have been looking for an opportunity to work as Data scientist for analytic company based  in New York.  \nProblem Statement : How can I find a convenient and less affordable place in New York with all amenities, \nI like to use and apply the tools and analytic technique which learned during the course for data science. \nIn order to make a comparison and evaluation of the rental options in New York,\nI am considering city Manhattan in New York.\nBelow are the search criteria:\n\n1.Studio or 1 bedroom apartment.\n\n2.Near to metro station(2 km) radius.\n\n3.Rent $2,500-3,000 per month.\n\n4.Food, coffee shops, restaurants Asian Thai, wine stores, gym, shopping and Health Clinic.\n\nBusiness Problem:\nThe challenge is to find a suitable apartment for rent in NY that complies with the demands on location, price and venues.\n\nAudience:\nThis is a common  challenge with valid questions for anyone moving to large city like New York in US. \nThe same methodology can be applied in accordance to demands as applicable. \nThis case is also applicable for anyone interested in exploring city in other country like Europe and Asia. \nThis can be used as practice skills for data scientist.", 
            "cell_type": "markdown", 
            "metadata": {}
        }, 
        {
            "execution_count": 2, 
            "cell_type": "code", 
            "metadata": {}, 
            "outputs": [], 
            "source": "#A description of the data and how it will be used to solve the problem"
        }, 
        {
            "source": "2. DATA SECTION:\n\nDescription of the data and its sources that will be used to solve the problem\n\nDescription of the Data:\nThe following data is required to answer the issues of the problem:\n\nList of Boroughs and neighborhoods of Manhattan with their geodata including latitud and longitud.\n\nList of metro stations in Manhattan with their address.\n\nList of apartments for rent in Manhattan area with their addresses and price range with additional information, such number of beds, etc.\n\nList of Venues for each Manhattan neighborhood\n\nList of Venues for metro stations.\n\nHow the data will be used to solve the problem\nThe data will be used as follows:\n\nUse Foursquare and geopy data to map top 20 venues for all Manhattan neighborhoods and cluster in groups.\n\nUse foursquare and geopy data to map the location of metro stations, \nwith clustered map which will be able to identify the venues and amenities near each metro station.\n\nUse Foursquare and geopy data to map the location of rental places, in some form, linked to the near metro stations.\n\ncreate a map that depicts, for instance, the average rental price, around a radius of 2 km near each metro stations.\n\nI will be able to quickly point out the popups to know the relative price per metro station area.\nAddresses from rental locations will be converted to geodata( latitude , longitude) using Geopy-distance.\n\nData will be searched in open data sources if available, from real estate sites if open to reading, \nlibraries or other government agencies, etc.\n", 
            "cell_type": "markdown", 
            "metadata": {}
        }, 
        {
            "execution_count": null, 
            "cell_type": "code", 
            "metadata": {}, 
            "outputs": [], 
            "source": ""
        }
    ], 
    "metadata": {
        "kernelspec": {
            "display_name": "Python 3.6", 
            "name": "python3", 
            "language": "python"
        }, 
        "language_info": {
            "mimetype": "text/x-python", 
            "nbconvert_exporter": "python", 
            "version": "3.6.8", 
            "name": "python", 
            "file_extension": ".py", 
            "pygments_lexer": "ipython3", 
            "codemirror_mode": {
                "version": 3, 
                "name": "ipython"
            }
        }
    }, 
    "nbformat": 4
}